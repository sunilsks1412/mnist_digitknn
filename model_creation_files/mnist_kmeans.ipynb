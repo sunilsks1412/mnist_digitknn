{
  "nbformat": 4,
  "nbformat_minor": 0,
  "metadata": {
    "colab": {
      "name": "mnist_kmeans.ipynb",
      "provenance": [],
      "collapsed_sections": []
    },
    "kernelspec": {
      "name": "python3",
      "display_name": "Python 3"
    },
    "language_info": {
      "name": "python"
    }
  },
  "cells": [
    {
      "cell_type": "code",
      "execution_count": null,
      "metadata": {
        "id": "8IA6ASATqstb"
      },
      "outputs": [],
      "source": [
        "# importingh libraries\n",
        "import sklearn\n",
        "import numpy as np\n",
        "\n",
        "# using seed to remember the random shuffling\n",
        "np.random.seed(42)\n",
        "\n",
        "# To plot figures\n",
        "%matplotlib inline\n",
        "import matplotlib as mpl\n",
        "import matplotlib.pyplot as plt\n",
        "\n"
      ]
    },
    {
      "cell_type": "code",
      "source": [
        "# Importing mnist\n",
        "from sklearn.datasets import fetch_openml\n",
        "mnist = fetch_openml('mnist_784', version = 1, as_frame=False)\n",
        "mnist.keys()\n"
      ],
      "metadata": {
        "colab": {
          "base_uri": "https://localhost:8080/"
        },
        "id": "0vfhPKK6qw2w",
        "outputId": "b68a2efb-8667-4c2e-8029-f5cdb9ee4c04"
      },
      "execution_count": null,
      "outputs": [
        {
          "output_type": "execute_result",
          "data": {
            "text/plain": [
              "dict_keys(['data', 'target', 'frame', 'categories', 'feature_names', 'target_names', 'DESCR', 'details', 'url'])"
            ]
          },
          "metadata": {},
          "execution_count": 2
        }
      ]
    },
    {
      "cell_type": "code",
      "source": [
        "X, y = mnist['data'], mnist['target']\n",
        "X.shape"
      ],
      "metadata": {
        "colab": {
          "base_uri": "https://localhost:8080/"
        },
        "id": "6CWuluYpq13H",
        "outputId": "ff31b23e-f5f0-4729-d6ac-064edb90e925"
      },
      "execution_count": null,
      "outputs": [
        {
          "output_type": "execute_result",
          "data": {
            "text/plain": [
              "(70000, 784)"
            ]
          },
          "metadata": {},
          "execution_count": 3
        }
      ]
    },
    {
      "cell_type": "code",
      "source": [
        "y.shape"
      ],
      "metadata": {
        "colab": {
          "base_uri": "https://localhost:8080/"
        },
        "id": "Kg4q79ewrESw",
        "outputId": "d933cfe7-5865-4a27-fa3f-c78b1c48c281"
      },
      "execution_count": null,
      "outputs": [
        {
          "output_type": "execute_result",
          "data": {
            "text/plain": [
              "(70000,)"
            ]
          },
          "metadata": {},
          "execution_count": 4
        }
      ]
    },
    {
      "cell_type": "code",
      "source": [
        "#plotting a single image\n",
        "print(y[0])\n",
        "some_digit = X[0]\n",
        "some_digit_image = some_digit.reshape(28,28 )\n",
        "plt.imshow(some_digit_image, cmap=mpl.cm.binary)\n",
        "plt.axis(\"off\")\n",
        "plt.show()"
      ],
      "metadata": {
        "colab": {
          "base_uri": "https://localhost:8080/",
          "height": 266
        },
        "id": "-mXZpCFhrKPG",
        "outputId": "40edd234-7991-4bd2-f5f6-de8ef6dda5dc"
      },
      "execution_count": null,
      "outputs": [
        {
          "output_type": "stream",
          "name": "stdout",
          "text": [
            "5\n"
          ]
        },
        {
          "output_type": "display_data",
          "data": {
            "text/plain": [
              "<Figure size 432x288 with 1 Axes>"
            ],
            "image/png": "[encoded data removed]"
          },
          "metadata": {
            "needs_background": "light"
          }
        }
      ]
    },
    {
      "cell_type": "code",
      "source": [
        "y = y.astype(np.uint8)"
      ],
      "metadata": {
        "id": "oWgM1sthrR03"
      },
      "execution_count": null,
      "outputs": []
    },
    {
      "cell_type": "code",
      "source": [
        "# Function for plotting a digit as a image\n",
        "def plot_digit(data):\n",
        "    image = data.reshape(28, 28)\n",
        "    plt.imshow(image, cmap = mpl.cm.binary,\n",
        "               interpolation=\"nearest\")\n",
        "    plt.axis(\"off\")"
      ],
      "metadata": {
        "id": "uN9mE5qEsJb_"
      },
      "execution_count": null,
      "outputs": []
    },
    {
      "cell_type": "markdown",
      "source": [
        "# Using KNeighbors Classifier"
      ],
      "metadata": {
        "id": "C0RlIiIDshoa"
      }
    },
    {
      "cell_type": "code",
      "source": [
        "# Splitting train and test data\n",
        "X_train, X_test, y_train, y_test = X[:60000], X[60000:], y[:60000], y[60000:]\n"
      ],
      "metadata": {
        "id": "Tp73GaODtICy"
      },
      "execution_count": null,
      "outputs": []
    },
    {
      "cell_type": "code",
      "source": [
        "# Creating the KNN classifier and training\n",
        "from sklearn.neighbors import KNeighborsClassifier\n",
        "knn_clf = KNeighborsClassifier(weights='distance', n_neighbors = 4)\n",
        "knn_clf.fit(X_train,y_train)"
      ],
      "metadata": {
        "colab": {
          "base_uri": "https://localhost:8080/"
        },
        "id": "mfnfL8eZsT1A",
        "outputId": "f2d7c978-882b-4f2f-fee6-f21ce69227f3"
      },
      "execution_count": null,
      "outputs": [
        {
          "output_type": "execute_result",
          "data": {
            "text/plain": [
              "KNeighborsClassifier(n_neighbors=4, weights='distance')"
            ]
          },
          "metadata": {},
          "execution_count": 23
        }
      ]
    },
    {
      "cell_type": "code",
      "source": [
        "# Predicting the test data\n",
        "y_knn_pred = knn_clf.predict(X_test)"
      ],
      "metadata": {
        "id": "xdvW_Kx-txBH"
      },
      "execution_count": null,
      "outputs": []
    },
    {
      "cell_type": "code",
      "source": [
        "# Testing the accuracy\n",
        "from sklearn.metrics import accuracy_score\n",
        "accuracy_score(y_test, y_knn_pred)"
      ],
      "metadata": {
        "colab": {
          "base_uri": "https://localhost:8080/"
        },
        "id": "3pHbNSjWt3wd",
        "outputId": "d412ae0a-d3d8-46d9-c55c-75a7e308dea5"
      },
      "execution_count": null,
      "outputs": [
        {
          "output_type": "execute_result",
          "data": {
            "text/plain": [
              "0.9714"
            ]
          },
          "metadata": {},
          "execution_count": 11
        }
      ]
    },
    {
      "cell_type": "code",
      "source": [
        "# Hyper paramater tuning \n",
        "\n",
        "from sklearn.model_selection import GridSearchCV\n",
        "\n",
        "param_grid = [{'weights' : ['uniform','distance'], 'n_neighbors' : [3,4,5]}]\n",
        "\n",
        "knn_clf = KNeighborsClassifier()\n",
        "grid_search = GridSearchCV(knn_clf, param_grid, cv= 5, verbose = 3)\n",
        "grid_search.fit(X_train,y_train)"
      ],
      "metadata": {
        "colab": {
          "base_uri": "https://localhost:8080/"
        },
        "id": "Fyn5qDo6uPcu",
        "outputId": "53e81089-7dbf-4bd6-98fe-f1db0da21f23"
      },
      "execution_count": null,
      "outputs": [
        {
          "output_type": "stream",
          "name": "stdout",
          "text": [
            "Fitting 5 folds for each of 6 candidates, totalling 30 fits\n",
            "[CV 1/5] END ....n_neighbors=3, weights=uniform;, score=0.972 total time=  32.0s\n",
            "[CV 2/5] END ....n_neighbors=3, weights=uniform;, score=0.971 total time=  30.7s\n",
            "[CV 3/5] END ....n_neighbors=3, weights=uniform;, score=0.969 total time=  30.6s\n",
            "[CV 4/5] END ....n_neighbors=3, weights=uniform;, score=0.969 total time=  30.7s\n",
            "[CV 5/5] END ....n_neighbors=3, weights=uniform;, score=0.970 total time=  32.9s\n",
            "[CV 1/5] END ...n_neighbors=3, weights=distance;, score=0.972 total time=  30.3s\n",
            "[CV 2/5] END ...n_neighbors=3, weights=distance;, score=0.972 total time=  30.3s\n",
            "[CV 3/5] END ...n_neighbors=3, weights=distance;, score=0.970 total time=  31.0s\n",
            "[CV 4/5] END ...n_neighbors=3, weights=distance;, score=0.970 total time=  30.3s\n",
            "[CV 5/5] END ...n_neighbors=3, weights=distance;, score=0.971 total time=  30.3s\n",
            "[CV 1/5] END ....n_neighbors=4, weights=uniform;, score=0.969 total time=  34.3s\n",
            "[CV 2/5] END ....n_neighbors=4, weights=uniform;, score=0.968 total time=  34.3s\n",
            "[CV 3/5] END ....n_neighbors=4, weights=uniform;, score=0.968 total time=  34.0s\n",
            "[CV 4/5] END ....n_neighbors=4, weights=uniform;, score=0.967 total time=  34.6s\n",
            "[CV 5/5] END ....n_neighbors=4, weights=uniform;, score=0.970 total time=  34.6s\n",
            "[CV 1/5] END ...n_neighbors=4, weights=distance;, score=0.973 total time=  33.9s\n",
            "[CV 2/5] END ...n_neighbors=4, weights=distance;, score=0.972 total time=  34.0s\n",
            "[CV 3/5] END ...n_neighbors=4, weights=distance;, score=0.970 total time=  33.7s\n",
            "[CV 4/5] END ...n_neighbors=4, weights=distance;, score=0.971 total time=  34.1s\n",
            "[CV 5/5] END ...n_neighbors=4, weights=distance;, score=0.972 total time=  34.4s\n",
            "[CV 1/5] END ....n_neighbors=5, weights=uniform;, score=0.970 total time=  34.2s\n",
            "[CV 2/5] END ....n_neighbors=5, weights=uniform;, score=0.970 total time=  34.3s\n",
            "[CV 3/5] END ....n_neighbors=5, weights=uniform;, score=0.969 total time=  34.1s\n",
            "[CV 4/5] END ....n_neighbors=5, weights=uniform;, score=0.968 total time=  34.4s\n",
            "[CV 5/5] END ....n_neighbors=5, weights=uniform;, score=0.969 total time=  34.6s\n",
            "[CV 1/5] END ...n_neighbors=5, weights=distance;, score=0.970 total time=  33.9s\n",
            "[CV 2/5] END ...n_neighbors=5, weights=distance;, score=0.971 total time=  34.0s\n",
            "[CV 3/5] END ...n_neighbors=5, weights=distance;, score=0.970 total time=  33.9s\n",
            "[CV 4/5] END ...n_neighbors=5, weights=distance;, score=0.969 total time=  34.1s\n",
            "[CV 5/5] END ...n_neighbors=5, weights=distance;, score=0.971 total time=  34.4s\n"
          ]
        },
        {
          "output_type": "execute_result",
          "data": {
            "text/plain": [
              "GridSearchCV(cv=5, estimator=KNeighborsClassifier(),\n",
              "             param_grid=[{'n_neighbors': [3, 4, 5],\n",
              "                          'weights': ['uniform', 'distance']}],\n",
              "             verbose=3)"
            ]
          },
          "metadata": {},
          "execution_count": 12
        }
      ]
    },
    {
      "cell_type": "code",
      "source": [
        "# Getting the best set of parameters\n",
        "grid_search.best_params_"
      ],
      "metadata": {
        "colab": {
          "base_uri": "https://localhost:8080/"
        },
        "id": "NDJT6u0Kvi-n",
        "outputId": "bcbb7309-924e-4419-8273-738a61ca3b10"
      },
      "execution_count": null,
      "outputs": [
        {
          "output_type": "execute_result",
          "data": {
            "text/plain": [
              "{'n_neighbors': 4, 'weights': 'distance'}"
            ]
          },
          "metadata": {},
          "execution_count": 13
        }
      ]
    },
    {
      "cell_type": "code",
      "source": [
        "# Getting the best score\n",
        "grid_search.best_score_"
      ],
      "metadata": {
        "colab": {
          "base_uri": "https://localhost:8080/"
        },
        "id": "B-sm1AiP1TrN",
        "outputId": "63eaa66c-0c4d-401a-afb6-9a7aab60b348"
      },
      "execution_count": null,
      "outputs": [
        {
          "output_type": "execute_result",
          "data": {
            "text/plain": [
              "0.9716166666666666"
            ]
          },
          "metadata": {},
          "execution_count": 14
        }
      ]
    },
    {
      "cell_type": "code",
      "source": [
        "# Testing accuracy with best model\n",
        "from sklearn.metrics import accuracy_score\n",
        "\n",
        "y_pred = grid_search.predict(X_test)\n",
        "accuracy_score(y_test, y_pred)"
      ],
      "metadata": {
        "colab": {
          "base_uri": "https://localhost:8080/"
        },
        "id": "waMVBjuq1WgU",
        "outputId": "7721e262-eb35-4f54-839e-392c3f8f1328"
      },
      "execution_count": null,
      "outputs": [
        {
          "output_type": "execute_result",
          "data": {
            "text/plain": [
              "0.9714"
            ]
          },
          "metadata": {},
          "execution_count": 15
        }
      ]
    },
    {
      "cell_type": "code",
      "source": [
        "# testing with a sample\n",
        "plot_digit(X_test[0])\n",
        "print(grid_search.predict([X_test[0]]))\n"
      ],
      "metadata": {
        "colab": {
          "base_uri": "https://localhost:8080/",
          "height": 266
        },
        "id": "zP_k0lZo1qWH",
        "outputId": "872799ff-9751-408b-d7a0-03138e1f3945"
      },
      "execution_count": null,
      "outputs": [
        {
          "output_type": "stream",
          "name": "stdout",
          "text": [
            "[7]\n"
          ]
        },
        {
          "output_type": "display_data",
          "data": {
            "text/plain": [
              "<Figure size 432x288 with 1 Axes>"
            ],
            "image/png": "[encoded data removed]"
          },
          "metadata": {
            "needs_background": "light"
          }
        }
      ]
    },
    {
      "cell_type": "code",
      "source": [
        "# Dumping the model using pickle\n",
        "import pickle\n",
        "with open('knn_pkl','wb') as files:\n",
        "  pickle.dump(knn_clf, files) "
      ],
      "metadata": {
        "id": "tKoRzXLuREPG"
      },
      "execution_count": null,
      "outputs": []
    },
    {
      "cell_type": "code",
      "source": [
        "# Testing the pickle import\n",
        "with open('knn_pkl','rb') as f:\n",
        "  knn_clf = pickle.load(f)\n",
        "knn_clf.predict([X[0]])"
      ],
      "metadata": {
        "colab": {
          "base_uri": "https://localhost:8080/"
        },
        "id": "SbD0gtYHePbJ",
        "outputId": "8dedb3ef-4c5d-4f3c-9691-2bba551e46db"
      },
      "execution_count": null,
      "outputs": [
        {
          "output_type": "execute_result",
          "data": {
            "text/plain": [
              "array([5], dtype=uint8)"
            ]
          },
          "metadata": {},
          "execution_count": 25
        }
      ]
    },
    {
      "cell_type": "code",
      "source": [
        "# Sample run of image processing and prediction\n",
        "from PIL import Image\n",
        "im = Image.open('image.png')\n",
        "print(im.size)\n",
        "\n",
        "im = im.resize((28,28))\n",
        "im = im.convert('L')\n",
        "im = np.array(im)\n",
        "plot_digit(im)\n",
        "print(im.shape)\n"
      ],
      "metadata": {
        "colab": {
          "base_uri": "https://localhost:8080/",
          "height": 284
        },
        "id": "Re0TcU5_en4a",
        "outputId": "f19bede9-64e9-4bbc-a90b-a8f212414585"
      },
      "execution_count": null,
      "outputs": [
        {
          "output_type": "stream",
          "name": "stdout",
          "text": [
            "(500, 500)\n",
            "(28, 28)\n"
          ]
        },
        {
          "output_type": "display_data",
          "data": {
            "text/plain": [
              "<Figure size 432x288 with 1 Axes>"
            ],
            "image/png": "[encoded data removed]"
          },
          "metadata": {
            "needs_background": "light"
          }
        }
      ]
    },
    {
      "cell_type": "code",
      "source": [
        "plot_digit(X[0])"
      ],
      "metadata": {
        "id": "bltxAf7_nPvf",
        "colab": {
          "base_uri": "https://localhost:8080/",
          "height": 247
        },
        "outputId": "bcb1ba99-efa2-41ce-b108-c0d94c0b0e82"
      },
      "execution_count": null,
      "outputs": [
        {
          "output_type": "display_data",
          "data": {
            "text/plain": [
              "<Figure size 432x288 with 1 Axes>"
            ],
            "image/png": "[encoded data removed]"
          },
          "metadata": {
            "needs_background": "light"
          }
        }
      ]
    }
  ]
}